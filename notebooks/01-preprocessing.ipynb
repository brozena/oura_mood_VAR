{
 "cells": [
  {
   "cell_type": "code",
   "execution_count": 1,
   "metadata": {},
   "outputs": [],
   "source": [
    "import pandas as pd\n",
    "import numpy as np"
   ]
  },
  {
   "cell_type": "code",
   "execution_count": 30,
   "metadata": {},
   "outputs": [],
   "source": [
    "mood = pd.read_csv('../data/emoods.csv', parse_dates=['DATE (YYYY-MM-DD)'], usecols=['DATE (YYYY-MM-DD)', 'IRRITABILITY', 'ANXIETY', 'DEPRESSED', 'ELEVATED']).rename(columns={'DATE (YYYY-MM-DD)':'date', 'IRRITABILITY':'irritable', 'ANXIETY':'anxious', 'DEPRESSED':'depressed','ELEVATED':'elevated'})\n",
    "sleep = pd.read_csv('../data/oura_sleep_2023-03-03T12-21-33.csv', parse_dates=['day', 'bedtime_end', 'bedtime_start'])\n",
    "sleep_scores = pd.read_csv('../data/oura_daily-sleep_2023-03-03T12-20-39.csv', parse_dates=['day']).rename(columns={'contributors_timing':'timing', 'contributors_deep_sleep':'deep', 'contributors_restfulness':'restfulness', 'contributors_efficiency':'efficiency', 'contributors_latency':'latency','contributors_rem_sleep':'rem', 'contributors_total_sleep':'total'})"
   ]
  }
 ],
 "metadata": {
  "kernelspec": {
   "display_name": "stat508",
   "language": "python",
   "name": "stat508"
  },
  "language_info": {
   "codemirror_mode": {
    "name": "ipython",
    "version": 3
   },
   "file_extension": ".py",
   "mimetype": "text/x-python",
   "name": "python",
   "nbconvert_exporter": "python",
   "pygments_lexer": "ipython3",
   "version": "3.11.0"
  },
  "orig_nbformat": 4
 },
 "nbformat": 4,
 "nbformat_minor": 2
}
